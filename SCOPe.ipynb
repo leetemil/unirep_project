{
  "nbformat": 4,
  "nbformat_minor": 0,
  "metadata": {
    "colab": {
      "name": "SCOPe.ipynb",
      "provenance": [],
      "collapsed_sections": [],
      "include_colab_link": true
    },
    "kernelspec": {
      "name": "python3",
      "display_name": "Python 3"
    }
  },
  "cells": [
    {
      "cell_type": "markdown",
      "metadata": {
        "id": "view-in-github",
        "colab_type": "text"
      },
      "source": [
        "<a href=\"https://colab.research.google.com/github/leetemil/unirep_project/blob/master/SCOPe.ipynb\" target=\"_parent\"><img src=\"https://colab.research.google.com/assets/colab-badge.svg\" alt=\"Open In Colab\"/></a>"
      ]
    },
    {
      "cell_type": "markdown",
      "metadata": {
        "id": "GNgruDWtFSHQ",
        "colab_type": "text"
      },
      "source": [
        "# Init"
      ]
    },
    {
      "cell_type": "code",
      "metadata": {
        "id": "9fQzQw9iFwKc",
        "colab_type": "code",
        "colab": {}
      },
      "source": [
        "!pip install biopython"
      ],
      "execution_count": 0,
      "outputs": []
    },
    {
      "cell_type": "code",
      "metadata": {
        "id": "EpFFbNxeFUDe",
        "colab_type": "code",
        "colab": {}
      },
      "source": [
        "import numpy as np\n",
        "from Bio import SeqIO"
      ],
      "execution_count": 0,
      "outputs": []
    },
    {
      "cell_type": "code",
      "metadata": {
        "id": "2VV33IXMFVqk",
        "colab_type": "code",
        "colab": {}
      },
      "source": [
        "!wget https://scop.berkeley.edu/downloads/scopeseq-2.07/astral-scopedom-seqres-gd-all-2.07-stable.fa"
      ],
      "execution_count": 0,
      "outputs": []
    },
    {
      "cell_type": "markdown",
      "metadata": {
        "id": "c9g2_0cYF-X3",
        "colab_type": "text"
      },
      "source": [
        "#Main"
      ]
    },
    {
      "cell_type": "markdown",
      "metadata": {
        "id": "YD1YCn3hInE_",
        "colab_type": "text"
      },
      "source": [
        "Classes: a, b, c, d, e, f, g, h, i, j, k, l."
      ]
    },
    {
      "cell_type": "code",
      "metadata": {
        "id": "4FZRIIOQF_oP",
        "colab_type": "code",
        "colab": {}
      },
      "source": [
        "raw_data = list(SeqIO.parse(\"astral-scopedom-seqres-gd-all-2.07-stable.fa\", \"fasta\"))"
      ],
      "execution_count": 0,
      "outputs": []
    },
    {
      "cell_type": "code",
      "metadata": {
        "id": "1i8be-asGI0L",
        "colab_type": "code",
        "colab": {}
      },
      "source": [
        "samples = [str(r.seq) for r in raw_data]\n",
        "labels = [r.description.split()[1][0] for r in raw_data]"
      ],
      "execution_count": 0,
      "outputs": []
    }
  ]
}