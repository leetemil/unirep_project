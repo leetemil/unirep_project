{
  "nbformat": 4,
  "nbformat_minor": 0,
  "metadata": {
    "colab": {
      "name": "TAPE.ipynb",
      "provenance": [],
      "collapsed_sections": [],
      "include_colab_link": true
    },
    "kernelspec": {
      "name": "python3",
      "display_name": "Python 3"
    },
    "accelerator": "GPU"
  },
  "cells": [
    {
      "cell_type": "markdown",
      "metadata": {
        "id": "view-in-github",
        "colab_type": "text"
      },
      "source": [
        "<a href=\"https://colab.research.google.com/github/leetemil/unirep_project/blob/master/TAPE.ipynb\" target=\"_parent\"><img src=\"https://colab.research.google.com/assets/colab-badge.svg\" alt=\"Open In Colab\"/></a>"
      ]
    },
    {
      "cell_type": "markdown",
      "metadata": {
        "id": "k1rHxxFP24qS",
        "colab_type": "text"
      },
      "source": [
        "#INIT"
      ]
    },
    {
      "cell_type": "markdown",
      "metadata": {
        "id": "1O4WR_DT3b1s",
        "colab_type": "text"
      },
      "source": [
        "###Imports\n",
        "Put any needed imports in the code cell below"
      ]
    },
    {
      "cell_type": "code",
      "metadata": {
        "id": "1B8E7B242439",
        "colab_type": "code",
        "colab": {}
      },
      "source": [
        "import numpy as np\n",
        "from google.colab import files"
      ],
      "execution_count": 0,
      "outputs": []
    },
    {
      "cell_type": "markdown",
      "metadata": {
        "id": "0kDghyeY30zd",
        "colab_type": "text"
      },
      "source": [
        "### Dependencies\n",
        "Put any needed dependencies in the code cell below"
      ]
    },
    {
      "cell_type": "code",
      "metadata": {
        "id": "8iQ9boYm35y6",
        "colab_type": "code",
        "colab": {}
      },
      "source": [
        "!pip install tape_proteins"
      ],
      "execution_count": 0,
      "outputs": []
    },
    {
      "cell_type": "code",
      "metadata": {
        "id": "luIQ0tImPwDZ",
        "colab_type": "code",
        "colab": {}
      },
      "source": [
        "# Needed to run tape-train-distributed\n",
        "%%writefile apex_setup.sh\n",
        "\n",
        "export CUDA_HOME=/usr/local/cuda-10.1\n",
        "git clone https://github.com/NVIDIA/apex\n",
        "pip install -v --no-cache-dir --global-option=\"--cpp_ext\" --global-option=\"--cuda_ext\" ./apex"
      ],
      "execution_count": 0,
      "outputs": []
    },
    {
      "cell_type": "code",
      "metadata": {
        "id": "_pbK2vzWQ1FP",
        "colab_type": "code",
        "colab": {}
      },
      "source": [
        "!sh apex_setup.sh"
      ],
      "execution_count": 0,
      "outputs": []
    },
    {
      "cell_type": "markdown",
      "metadata": {
        "id": "JLXDCh1X4j9w",
        "colab_type": "text"
      },
      "source": [
        "###Constants"
      ]
    },
    {
      "cell_type": "code",
      "metadata": {
        "id": "fEKrlL9n4mYW",
        "colab_type": "code",
        "colab": {}
      },
      "source": [
        "# uhehuehe"
      ],
      "execution_count": 0,
      "outputs": []
    },
    {
      "cell_type": "markdown",
      "metadata": {
        "id": "TFrKDYkh2_lo",
        "colab_type": "text"
      },
      "source": [
        "### Make script to download TAPE data"
      ]
    },
    {
      "cell_type": "code",
      "metadata": {
        "id": "hAFEEjsqRqRH",
        "colab_type": "code",
        "colab": {}
      },
      "source": [
        "%%writefile input.fasta\n",
        ">seq1\\n\n",
        "GCTVEDRCLIGMGAILLNGCVIGSGSLVAAGALITQ\\n\n",
        ">seq2\\n\n",
        "RTIKVRILHAIGFEGGLMLLTIPMVAYAMDMTLFQAILLDLSMTTCILVYTFIFQWCYDILENR"
      ],
      "execution_count": 0,
      "outputs": []
    },
    {
      "cell_type": "code",
      "metadata": {
        "id": "9M8oRPasRjoF",
        "colab_type": "code",
        "colab": {}
      },
      "source": [
        "%%writefile download_TAPE_data.sh\n",
        "mkdir -p ./data\n",
        "\n",
        "# Download pfam\n",
        "wget http://s3.amazonaws.com/proteindata/data_pytorch/pfam.tar.gz; tar -xzf pfam.tar.gz -C ./data; rm pfam.tar.gz\n",
        "\n",
        "# Download Vocab/Model files\n",
        "wget http://s3.amazonaws.com/proteindata/data_pytorch/pfam.model\n",
        "wget http://s3.amazonaws.com/proteindata/data_pytorch/pfam.vocab\n",
        "\n",
        "mv pfam.model data\n",
        "mv pfam.vocab data\n",
        "\n",
        "# Download Data Files\n",
        "wget http://s3.amazonaws.com/proteindata/data_pytorch/secondary_structure.tar.gz\n",
        "wget http://s3.amazonaws.com/proteindata/data_pytorch/proteinnet.tar.gz\n",
        "wget http://s3.amazonaws.com/proteindata/data_pytorch/remote_homology.tar.gz\n",
        "wget http://s3.amazonaws.com/proteindata/data_pytorch/fluorescence.tar.gz\n",
        "wget http://s3.amazonaws.com/proteindata/data_pytorch/stability.tar.gz\n",
        "\n",
        "tar -xzf secondary_structure.tar.gz -C ./data\n",
        "tar -xzf proteinnet.tar.gz -C ./data\n",
        "tar -xzf remote_homology.tar.gz -C ./data\n",
        "tar -xzf fluorescence.tar.gz -C ./data\n",
        "tar -xzf stability.tar.gz -C ./data\n",
        "\n",
        "rm secondary_structure.tar.gz\n",
        "rm proteinnet.tar.gz\n",
        "rm remote_homology.tar.gz\n",
        "rm fluorescence.tar.gz\n",
        "rm stability.tar.gz"
      ],
      "execution_count": 0,
      "outputs": []
    },
    {
      "cell_type": "markdown",
      "metadata": {
        "id": "2XSpdZrV3q74",
        "colab_type": "text"
      },
      "source": [
        "### Download TAPE data\n",
        "This takes a while."
      ]
    },
    {
      "cell_type": "code",
      "metadata": {
        "id": "OII9ozc42ZmK",
        "colab_type": "code",
        "colab": {}
      },
      "source": [
        "!sh download_TAPE_data.sh"
      ],
      "execution_count": 0,
      "outputs": []
    },
    {
      "cell_type": "code",
      "metadata": {
        "id": "jT34DmB5yy0p",
        "colab_type": "code",
        "colab": {}
      },
      "source": [
        "!tape-embed unirep input.fasta output.npz babbler-1900 --tokenizer unirep"
      ],
      "execution_count": 0,
      "outputs": []
    },
    {
      "cell_type": "markdown",
      "metadata": {
        "id": "NkumASgH3kyD",
        "colab_type": "text"
      },
      "source": [
        "#Run it"
      ]
    },
    {
      "cell_type": "code",
      "metadata": {
        "id": "S43lrjJhzQtm",
        "colab_type": "code",
        "colab": {}
      },
      "source": [
        "arrays = np.load('output.npz', allow_pickle=True)"
      ],
      "execution_count": 0,
      "outputs": []
    },
    {
      "cell_type": "code",
      "metadata": {
        "id": "0GRKqYfKzq2L",
        "colab_type": "code",
        "colab": {}
      },
      "source": [
        "list(arrays.keys())\n",
        "arrays['seq1']"
      ],
      "execution_count": 0,
      "outputs": []
    },
    {
      "cell_type": "code",
      "metadata": {
        "id": "F6HoZKI18XPp",
        "colab_type": "code",
        "colab": {}
      },
      "source": [
        "!tape-train-distributed transformer masked_language_modeling --batch_size 1 --learning_rate 0.001 --fp16 --warmup_steps 1 --gradient_accumulation_steps 1"
      ],
      "execution_count": 0,
      "outputs": []
    },
    {
      "cell_type": "markdown",
      "metadata": {
        "id": "AK1v7zCt4RnB",
        "colab_type": "text"
      },
      "source": [
        "#Download Results\n",
        "This cell downloads whatever results we got"
      ]
    },
    {
      "cell_type": "code",
      "metadata": {
        "id": "b4_3zoR_4Y4i",
        "colab_type": "code",
        "colab": {}
      },
      "source": [
        "files.download('huehuehuuhe')"
      ],
      "execution_count": 0,
      "outputs": []
    }
  ]
}